{
 "cells": [
  {
   "cell_type": "code",
   "execution_count": 12,
   "metadata": {
    "scrolled": true
   },
   "outputs": [],
   "source": [
    "# Dependencies and Setup\n",
    "import pandas as pd\n",
    "import os\n",
    "import datetime"
   ]
  },
  {
   "cell_type": "code",
   "execution_count": 13,
   "metadata": {},
   "outputs": [
    {
     "data": {
      "text/html": [
       "<div>\n",
       "<style scoped>\n",
       "    .dataframe tbody tr th:only-of-type {\n",
       "        vertical-align: middle;\n",
       "    }\n",
       "\n",
       "    .dataframe tbody tr th {\n",
       "        vertical-align: top;\n",
       "    }\n",
       "\n",
       "    .dataframe thead th {\n",
       "        text-align: right;\n",
       "    }\n",
       "</style>\n",
       "<table border=\"1\" class=\"dataframe\">\n",
       "  <thead>\n",
       "    <tr style=\"text-align: right;\">\n",
       "      <th></th>\n",
       "      <th>City</th>\n",
       "      <th>Lat</th>\n",
       "      <th>Lng</th>\n",
       "      <th>Max Temp</th>\n",
       "      <th>Humidity</th>\n",
       "      <th>Cloudiness</th>\n",
       "      <th>Wind Speed</th>\n",
       "      <th>Country</th>\n",
       "      <th>Date</th>\n",
       "    </tr>\n",
       "  </thead>\n",
       "  <tbody>\n",
       "    <tr>\n",
       "      <th>0</th>\n",
       "      <td>Verkh-Chebula</td>\n",
       "      <td>56.0308</td>\n",
       "      <td>87.6218</td>\n",
       "      <td>40.64</td>\n",
       "      <td>85</td>\n",
       "      <td>85</td>\n",
       "      <td>8.46</td>\n",
       "      <td>RU</td>\n",
       "      <td>1619654478</td>\n",
       "    </tr>\n",
       "    <tr>\n",
       "      <th>1</th>\n",
       "      <td>Nanortalik</td>\n",
       "      <td>60.1432</td>\n",
       "      <td>-45.2371</td>\n",
       "      <td>35.40</td>\n",
       "      <td>93</td>\n",
       "      <td>78</td>\n",
       "      <td>4.45</td>\n",
       "      <td>GL</td>\n",
       "      <td>1619654230</td>\n",
       "    </tr>\n",
       "    <tr>\n",
       "      <th>2</th>\n",
       "      <td>Cabo San Lucas</td>\n",
       "      <td>22.8909</td>\n",
       "      <td>-109.9124</td>\n",
       "      <td>75.00</td>\n",
       "      <td>68</td>\n",
       "      <td>40</td>\n",
       "      <td>10.36</td>\n",
       "      <td>MX</td>\n",
       "      <td>1619654217</td>\n",
       "    </tr>\n",
       "    <tr>\n",
       "      <th>3</th>\n",
       "      <td>Saraipali</td>\n",
       "      <td>21.3333</td>\n",
       "      <td>83.0000</td>\n",
       "      <td>81.57</td>\n",
       "      <td>11</td>\n",
       "      <td>63</td>\n",
       "      <td>2.82</td>\n",
       "      <td>IN</td>\n",
       "      <td>1619654479</td>\n",
       "    </tr>\n",
       "    <tr>\n",
       "      <th>4</th>\n",
       "      <td>Te Anau</td>\n",
       "      <td>-45.4167</td>\n",
       "      <td>167.7167</td>\n",
       "      <td>53.10</td>\n",
       "      <td>90</td>\n",
       "      <td>100</td>\n",
       "      <td>5.93</td>\n",
       "      <td>NZ</td>\n",
       "      <td>1619654479</td>\n",
       "    </tr>\n",
       "  </tbody>\n",
       "</table>\n",
       "</div>"
      ],
      "text/plain": [
       "             City      Lat       Lng  Max Temp  Humidity  Cloudiness  \\\n",
       "0   Verkh-Chebula  56.0308   87.6218     40.64        85          85   \n",
       "1      Nanortalik  60.1432  -45.2371     35.40        93          78   \n",
       "2  Cabo San Lucas  22.8909 -109.9124     75.00        68          40   \n",
       "3       Saraipali  21.3333   83.0000     81.57        11          63   \n",
       "4         Te Anau -45.4167  167.7167     53.10        90         100   \n",
       "\n",
       "   Wind Speed Country        Date  \n",
       "0        8.46      RU  1619654478  \n",
       "1        4.45      GL  1619654230  \n",
       "2       10.36      MX  1619654217  \n",
       "3        2.82      IN  1619654479  \n",
       "4        5.93      NZ  1619654479  "
      ]
     },
     "execution_count": 13,
     "metadata": {},
     "output_type": "execute_result"
    }
   ],
   "source": [
    "# Load cities.csv into data-frame:\n",
    "csvpath = os.path.join(\"Resources\",\"cities.csv\")\n",
    "table_df = pd.read_csv(csvpath)\n",
    "\n",
    "table_df = table_df.drop(\"Unnamed: 0\", axis=\"columns\")\n",
    "table_df.head()"
   ]
  },
  {
   "cell_type": "code",
   "execution_count": 21,
   "metadata": {},
   "outputs": [],
   "source": [
    "# Export data frame to HTML:\n",
    "# table_html = table_df.to_html\n",
    "# table_html\n",
    "\n",
    "table_df.to_html('table_df.html',border=0)\n"
   ]
  },
  {
   "cell_type": "code",
   "execution_count": null,
   "metadata": {},
   "outputs": [],
   "source": []
  }
 ],
 "metadata": {
  "anaconda-cloud": {},
  "kernel_info": {
   "name": "python3"
  },
  "kernelspec": {
   "display_name": "Python [conda env:PythonData] *",
   "language": "python",
   "name": "conda-env-PythonData-py"
  },
  "language_info": {
   "codemirror_mode": {
    "name": "ipython",
    "version": 3
   },
   "file_extension": ".py",
   "mimetype": "text/x-python",
   "name": "python",
   "nbconvert_exporter": "python",
   "pygments_lexer": "ipython3",
   "version": "3.6.10"
  },
  "latex_envs": {
   "LaTeX_envs_menu_present": true,
   "autoclose": false,
   "autocomplete": true,
   "bibliofile": "biblio.bib",
   "cite_by": "apalike",
   "current_citInitial": 1,
   "eqLabelWithNumbers": true,
   "eqNumInitial": 1,
   "hotkeys": {
    "equation": "Ctrl-E",
    "itemize": "Ctrl-I"
   },
   "labels_anchors": false,
   "latex_user_defs": false,
   "report_style_numbering": false,
   "user_envs_cfg": false
  },
  "nteract": {
   "version": "0.12.3"
  }
 },
 "nbformat": 4,
 "nbformat_minor": 2
}
